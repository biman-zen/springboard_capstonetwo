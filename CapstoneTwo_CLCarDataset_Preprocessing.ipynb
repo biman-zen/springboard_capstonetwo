{
 "cells": [
  {
   "cell_type": "markdown",
   "id": "08f90955",
   "metadata": {},
   "source": [
    "# Capstone II: Craiglist Used Car Dataset\n",
    "### Part 3: Preprocessing and Model Development\n",
    "Biman Mondal\n",
    "\n",
    "May 16, 2025"
   ]
  },
  {
   "cell_type": "markdown",
   "id": "259c27c2",
   "metadata": {},
   "source": [
    "Original Dataset .csv file downloaded from Kaggle:\n",
    "https://www.kaggle.com/datasets/austinreese/craigslist-carstrucks-data\n",
    "\n",
    "The goal of this capstone project is to create a model that predicts the price of a vehicle given certain dependent variables.\n",
    "\n",
    "Step 1: Data Wrangling\n",
    "Wrangled data cleaned in: CapstoneTwo_CLCarDataset_DataWrangling.ipynb\n",
    "The original dataset has been *halved* to speed up reading and processing.\n",
    "\n",
    "Step 2: EDA\n",
    "The nan values have been removed where possible and imputed other places. In the mileage (odometer) column, the year and condition were used to provide the replace the null/nan values with the median.\n",
    "The columns not likely to be useful in predicting price were dropped from the dataframe.\n",
    "\n",
    "Step 3: Preprocessing \n",
    "In this notebook, further steps are taken to scrub the dataset of N/A values, imputing common values, and dropping outliers\n",
    "The categorical features of the dataset will be encoded in preparation for modeling"
   ]
  },
  {
   "cell_type": "code",
   "execution_count": null,
   "id": "dc4b897e",
   "metadata": {
    "scrolled": true
   },
   "outputs": [],
   "source": [
    "#!pip install category_encoders"
   ]
  },
  {
   "cell_type": "code",
   "execution_count": null,
   "id": "655e5d30",
   "metadata": {
    "scrolled": true
   },
   "outputs": [],
   "source": [
    "# Import numpy package\n",
    "import numpy as np\n",
    "# Import pandas package\n",
    "import pandas as pd\n",
    "# Import matplotlib package\n",
    "import matplotlib.pyplot as plt\n",
    "# Import the seaborn package\n",
    "import seaborn as sns\n",
    "# Import ydata-profiling package\n",
    "# Import datetime\n",
    "import datetime as dt\n",
    "# Import category encoder\n",
    "import category_encoders as ce"
   ]
  },
  {
   "cell_type": "code",
   "execution_count": null,
   "id": "9edd3b6f",
   "metadata": {
    "scrolled": true
   },
   "outputs": [],
   "source": [
    "vehicles = pd.read_csv('./data/vehicles_eda.csv', header='infer',index_col='id')\n",
    "#vehicles.set_index('id', inplace=True)"
   ]
  },
  {
   "cell_type": "code",
   "execution_count": null,
   "id": "af498dbf",
   "metadata": {
    "scrolled": true
   },
   "outputs": [],
   "source": [
    "#vehicles = vehicles.drop([['Unnamed: 0','url', axis=1)\n",
    "vehicles.sample(5)"
   ]
  },
  {
   "cell_type": "code",
   "execution_count": null,
   "id": "ba23ee88",
   "metadata": {
    "scrolled": true
   },
   "outputs": [],
   "source": [
    "# Drop all the unnecessary columns\n",
    "#vehicles.drop(model_na.index,inplace=True)\n",
    "#print(help(vehicles.drop))\n",
    "# Columns to drop\n",
    "drop_cols = ['region','county','state','lat','long','posting_date','fuel_code','condition_code']\n",
    "vehicles = vehicles.drop(drop_cols,axis=1)"
   ]
  },
  {
   "cell_type": "code",
   "execution_count": null,
   "id": "97b0f4a4",
   "metadata": {
    "scrolled": true
   },
   "outputs": [],
   "source": [
    "vehicles.info()"
   ]
  },
  {
   "cell_type": "markdown",
   "id": "866f3757",
   "metadata": {},
   "source": [
    "### Remove all NA values"
   ]
  },
  {
   "cell_type": "code",
   "execution_count": null,
   "id": "efe3c29c",
   "metadata": {
    "scrolled": true
   },
   "outputs": [],
   "source": [
    "### Model\n",
    "#dir(vehicles['manufacturer'].count())\n",
    "foo = vehicles[['manufacturer','model']]"
   ]
  },
  {
   "cell_type": "code",
   "execution_count": null,
   "id": "a296144a",
   "metadata": {
    "scrolled": true
   },
   "outputs": [],
   "source": [
    "model_na = vehicles.loc[vehicles['model'].isna(),['model']]\n",
    "print(f'\\nRemove {len(model_na)} rows with no model name.\\n')\n",
    "#print(model_na.index)\n",
    "vehicles.drop(model_na.index,inplace=True)"
   ]
  },
  {
   "cell_type": "code",
   "execution_count": null,
   "id": "b94fa891",
   "metadata": {
    "scrolled": true
   },
   "outputs": [],
   "source": [
    "### Manufacturer\n",
    "manufacturer_na = vehicles.loc[vehicles['manufacturer'].isna(),['manufacturer','model']]\n",
    "print(f'\\nRemove {len(manufacturer_na)} rows with no model name.\\n')\n",
    "#manufacturer_na\n",
    "vehicles.drop(manufacturer_na.index,inplace=True)"
   ]
  },
  {
   "cell_type": "code",
   "execution_count": null,
   "id": "60ae05f9",
   "metadata": {
    "scrolled": true
   },
   "outputs": [],
   "source": [
    "vehicles.info()"
   ]
  },
  {
   "cell_type": "code",
   "execution_count": null,
   "id": "fe7d415b",
   "metadata": {
    "scrolled": true
   },
   "outputs": [],
   "source": [
    "### Drive\n",
    "#print(help(vehicles['drive'].hist(align='mid')))\n",
    "#vehicles['drive'].hist(align='left',edgecolor='black')\n",
    "#plt.show()\n",
    "drive_na = vehicles.loc[vehicles['drive'].isna(),['manufacturer','model','type','drive']]\n",
    "print(f'\\nThere are {len(drive_na)} rows without the drive type specified.\\n')\n",
    "drive_na.sample(10)\n",
    "vehicles['drive'] = vehicles['drive'].fillna('fwd')"
   ]
  },
  {
   "cell_type": "code",
   "execution_count": null,
   "id": "297da035",
   "metadata": {
    "scrolled": true
   },
   "outputs": [],
   "source": [
    "### Transmission\n",
    "#vehicles['transmission'].hist(rwidth=1.0,align='left')\n",
    "#plt.show()\n",
    "transmission_na = vehicles.loc[vehicles['transmission'].isna(),['manufacturer','model','type','transmission']]\n",
    "transmission_na.sample(10)\n",
    "vehicles['transmission'] = vehicles['transmission'].fillna('automatic')"
   ]
  },
  {
   "cell_type": "code",
   "execution_count": null,
   "id": "58a51229",
   "metadata": {
    "scrolled": true
   },
   "outputs": [],
   "source": [
    "### Type\n",
    "#vehicles.loc[vehicles['type']=='offroad',['year','manufacturer','model','type']]\n",
    "type_map = {'offroad':'SUV','hatchback':'sedan','coupe':'sedan','convertible':'sedan','wagon':'sedan'}\n",
    "vehicles['type'] = vehicles['type'].replace(type_map)"
   ]
  },
  {
   "cell_type": "code",
   "execution_count": null,
   "id": "4fc4b840",
   "metadata": {
    "scrolled": true
   },
   "outputs": [],
   "source": [
    "#ax = vehicles['type'].hist(align='mid',rwidth=0.5)\n",
    "#ax.set_xticklabels(ax.get_xticklabels(),rotation=60)\n",
    "#plt.show()\n",
    "vehicles['type'] = vehicles['type'].fillna('sedan')\n",
    "vehicles.info()"
   ]
  },
  {
   "cell_type": "code",
   "execution_count": null,
   "id": "fcc5cfb7",
   "metadata": {
    "scrolled": true
   },
   "outputs": [],
   "source": [
    "### Title Status\n",
    "vehicles['title_status'].unique()\n",
    "\n",
    "na_title_status = vehicles.loc[vehicles['title_status'].isna(),['manufacturer','model','title_status']]\n",
    "na_title_status\n",
    "# Replace na values in title_status\n",
    "vehicles['title_status'] = vehicles['title_status'].fillna('clean')\n",
    "\n",
    "# Replace missing and lien to clean\n",
    "vehicles['title_status'] = vehicles['title_status'].replace({'missing': 'clean'})"
   ]
  },
  {
   "cell_type": "code",
   "execution_count": null,
   "id": "5971341f",
   "metadata": {
    "scrolled": true
   },
   "outputs": [],
   "source": [
    "#vehicles['title_status'].hist(log=True)\n",
    "#plt.show()"
   ]
  },
  {
   "cell_type": "markdown",
   "id": "d412e2d4",
   "metadata": {},
   "source": [
    "### Condense the model category \n",
    "Since there are so many model categories, they should be condensed to simplify categorization.\n",
    "\n",
    "Assign standard labels for the top 40 vehicle models including for f-150, f-250, silverado, and other."
   ]
  },
  {
   "cell_type": "code",
   "execution_count": null,
   "id": "dbb9b93a",
   "metadata": {
    "scrolled": true
   },
   "outputs": [],
   "source": [
    "print(f\"There are {vehicles['model'].nunique()} unique models in the dataset!!\")\n",
    "print(vehicles['model'].value_counts().nlargest(20))\n",
    "foo=vehicles['model'].value_counts()"
   ]
  },
  {
   "cell_type": "code",
   "execution_count": null,
   "id": "85725d3c",
   "metadata": {
    "scrolled": true
   },
   "outputs": [],
   "source": [
    "vehicles.loc[(vehicles.model.str.contains(\"f150\"))&(vehicles.manufacturer=='ford'),'model'] = 'f-150'\n",
    "f150_pattern =\"f-[150].\"\n",
    "#vehicles.loc[vehicles.model.str.contains(f150_pattern),'model'] = 'f-150'\n",
    "#vehicles.loc[((vehicles.model.str.contains(f150_pattern))&(vehicles.manufacturer=='ford')),['manufacturer','model']]\n",
    "vehicles.loc[((vehicles.model.str.contains(f150_pattern))&(vehicles.manufacturer=='ford')),'model']='f-150'"
   ]
  },
  {
   "cell_type": "code",
   "execution_count": null,
   "id": "32186f2b",
   "metadata": {
    "scrolled": true
   },
   "outputs": [],
   "source": [
    "# Combine the f-250 model segment\n",
    "vehicles.loc[vehicles.model.str.contains('f.250.'), 'model']\n",
    "vehicles.loc[(vehicles.model.str.contains('.f*.250.')) & (vehicles.manufacturer=='ford'),'model'] = 'f-250'\n",
    "vehicles.loc[vehicles.model.str.contains('f*.250.') & (vehicles.manufacturer=='ford'),'model'] = 'f-250'\n",
    "vehicles.loc[vehicles.model.str.contains('f250') & (vehicles.manufacturer=='ford'),'model'] = 'f-250'"
   ]
  },
  {
   "cell_type": "code",
   "execution_count": null,
   "id": "d7a935a5",
   "metadata": {
    "scrolled": true
   },
   "outputs": [],
   "source": [
    "# Combine all f-350 model segments\n",
    "vehicles.loc[(vehicles.model.str.contains('.f-350.')) & (vehicles.manufacturer=='ford'),'model'] = 'f-350'\n",
    "vehicles.loc[(vehicles.model.str.contains('.350.')) & (vehicles.manufacturer=='ford'),'model'] = 'f-350'\n",
    "vehicles.loc[(vehicles.model.str.contains('f350')) & (vehicles.manufacturer=='ford'),'model'] = 'f-350'"
   ]
  },
  {
   "cell_type": "code",
   "execution_count": null,
   "id": "4b5b4772",
   "metadata": {
    "scrolled": true
   },
   "outputs": [],
   "source": [
    "# Combine all the silverado 1500 \n",
    "vehicles.loc[(vehicles.model.str.contains('.*silverado 1500.*')) & (vehicles.manufacturer=='chevrolet'),'model'] = 'silverado 1500'\n",
    "vehicles.loc[(vehicles.model.str.contains('1500')) & (vehicles.manufacturer=='chevrolet'),'model'] = 'silverado 1500'\n",
    "vehicles.loc[(vehicles.model.str.contains('silverado$')) & (vehicles.manufacturer=='chevrolet'),'model'] = 'silverado 1500'\n",
    "vehicles.loc[(vehicles.model.str.contains('.*1500.*')) & (vehicles.manufacturer=='chevrolet'),'model'] = 'silverado 1500'\n",
    "#vehicles.loc[vehicles.model.str.contains('silverado'), ['model','manufacturer']]"
   ]
  },
  {
   "cell_type": "code",
   "execution_count": null,
   "id": "7bf244e8",
   "metadata": {
    "scrolled": true
   },
   "outputs": [],
   "source": [
    "# Combine all the silverado 2500 \n",
    "vehicles.loc[(vehicles.model.str.contains('.*silverado 2500.*')) & (vehicles.manufacturer=='chevrolet'),'model'] = 'silverado 2500'\n",
    "vehicles.loc[(vehicles.model.str.contains('2500')) & (vehicles.manufacturer=='chevrolet'),'model'] = 'silverado 2500'\n",
    "vehicles.loc[(vehicles.model.str.contains('.*silverado 3500.*')) & (vehicles.manufacturer=='chevrolet'),'model'] = 'silverado 3500'"
   ]
  },
  {
   "cell_type": "code",
   "execution_count": null,
   "id": "54134ffd",
   "metadata": {
    "scrolled": true
   },
   "outputs": [],
   "source": [
    "# Combine all ram 1500 \n",
    "vehicles.loc[(vehicles.model.str.contains('.*1500.*')) & (~vehicles.model.str.contains('.*van.*')) & (vehicles.manufacturer=='ram'),'model'] = '1500'\n",
    "vehicles.loc[(vehicles.model.str.contains('.*2500.*')) & (~vehicles.model.str.contains('.*van.*'))& (vehicles.manufacturer=='ram'),'model'] = '2500'\n",
    "vehicles.loc[(vehicles.model.str.contains('.*3500.*')) & (~vehicles.model.str.contains('.*van.*'))& (vehicles.manufacturer=='ram'),'model']  = '3500'\n",
    "vehicles.loc[vehicles.model.str.contains('3500'), ['model','manufacturer']]"
   ]
  },
  {
   "cell_type": "code",
   "execution_count": null,
   "id": "29b9da56",
   "metadata": {
    "scrolled": true
   },
   "outputs": [],
   "source": [
    "vehicles.loc[(vehicles.model.str.contains('.*wrangler.*')) & (vehicles.manufacturer=='jeep'),'model'] = 'wrangler'\n",
    "#vehicles.loc[vehicles.model.str.contains('.*wrangler.*'), ['model','manufacturer']]"
   ]
  },
  {
   "cell_type": "code",
   "execution_count": null,
   "id": "98515bd0",
   "metadata": {
    "scrolled": true
   },
   "outputs": [],
   "source": [
    "# Combine toyota tacoma models\n",
    "vehicles.loc[vehicles.model.str.contains('tacoma'), 'model'] = 'tacoma'\n",
    "# Combine toyota tundra models\n",
    "vehicles.loc[vehicles.model.str.contains('tundra'), 'model'] = 'tundra'\n",
    "vehicles.loc[vehicles.model.str.contains('.*camry.*'), 'model'] = 'camry'\n",
    "vehicles.loc[vehicles.model.str.contains('.*corolla.*'), 'model'] = 'corolla'\n",
    "#vehicles.loc[vehicles.model.str.contains('tundra'), ['model','manufacturer']]"
   ]
  },
  {
   "cell_type": "code",
   "execution_count": null,
   "id": "c7ff8332",
   "metadata": {
    "scrolled": true
   },
   "outputs": [],
   "source": [
    "# Combine Honda Civic and Accord\n",
    "vehicles.loc[vehicles.model.str.contains('.*accord.*'), 'model'] = 'accord'\n",
    "vehicles.loc[vehicles.model.str.contains('.*civic.*'), 'model'] = 'civic'\n",
    "vehicles.loc[vehicles.model.str.contains('.*escape.*'), 'model'] = 'escape'\n",
    "vehicles.loc[vehicles.model.str.contains('.*altima.*'), 'model'] = 'altima'\n",
    "vehicles.loc[vehicles.model.str.contains('.*explorer.*'), 'model'] = 'explorer'\n",
    "vehicles.loc[vehicles.model.str.contains('.*cherokee.*'), 'model'] = 'cherokee'\n",
    "vehicles.loc[vehicles.model.str.contains('.*mustang.*'), 'model'] = 'mustang'\n",
    "vehicles.loc[vehicles.model.str.contains('.*fusion.*'), 'model'] = 'fusion'\n",
    "vehicles.loc[vehicles.model.str.contains('.*cr-v.*'), 'model'] = 'cr-v'\n",
    "vehicles.loc[vehicles.model.str.contains('.*focus.*'), 'model'] = 'focus'\n",
    "vehicles.loc[vehicles.model.str.contains('.*outback.*'), 'model'] = 'outback'\n",
    "vehicles.loc[vehicles.model.str.contains('.*impala.*'), 'model'] = 'impala'\n",
    "vehicles.loc[vehicles.model.str.contains('.*malibu.*'), 'model'] = 'malibu'\n",
    "vehicles.loc[vehicles.model.str.contains('.*rav4.*'), 'model'] = 'rav4'\n",
    "vehicles.loc[vehicles.model.str.contains('.*corvette.*'), 'model'] = 'corvette'\n",
    "vehicles.loc[vehicles.model.str.contains('.*charger.*'), 'model'] = 'charger'\n",
    "vehicles.loc[vehicles.model.str.contains('.*grand caravan.*'), 'model'] = 'grand caravan' \n",
    "vehicles.loc[vehicles.model.str.contains('.*sierra 1500.*'), 'model'] = 'sierra 1500'\n",
    "vehicles.loc[vehicles.model.str.contains('.*tahoe.*'), 'model'] = 'tahoe'\n",
    "vehicles.loc[vehicles.model.str.contains('.*odyssey.*'), 'model'] = 'odyssey'\n",
    "vehicles.loc[vehicles.model.str.contains('.*cruze.*'), 'model'] = 'cruze'\n",
    "vehicles.loc[vehicles.model.str.contains('.*sonata.*'), 'model'] = 'sonata'\n",
    "vehicles.loc[vehicles.model.str.contains('.*jetta.*'), 'model'] = 'jetta'\n",
    "vehicles.loc[vehicles.model.str.contains('.*prius.*'), 'model'] = 'prius'\n",
    "vehicles.loc[vehicles.model.str.contains('.*edge.*'), 'model'] = 'edge'\n",
    "vehicles.loc[vehicles.model.str.contains('.*elantra.*'), 'model'] = 'elantra'"
   ]
  },
  {
   "cell_type": "code",
   "execution_count": null,
   "id": "c648159e",
   "metadata": {
    "scrolled": true
   },
   "outputs": [],
   "source": [
    "# The following are the top 40 car models \n",
    "print(vehicles['model'].value_counts().nlargest(40))"
   ]
  },
  {
   "cell_type": "code",
   "execution_count": null,
   "id": "e1957374",
   "metadata": {
    "scrolled": true
   },
   "outputs": [],
   "source": [
    "top_models = vehicles['model'].value_counts().nlargest(40)\n",
    "top_models.index\n",
    "vehicles_sub = vehicles[vehicles['model'].isin(top_models.index)]\n",
    "print(vehicles.shape)\n",
    "print(vehicles_sub.shape)"
   ]
  },
  {
   "cell_type": "markdown",
   "id": "731a9b87",
   "metadata": {},
   "source": [
    "### Numerical Value distribution"
   ]
  },
  {
   "cell_type": "code",
   "execution_count": null,
   "id": "ee243560",
   "metadata": {
    "scrolled": true
   },
   "outputs": [],
   "source": [
    "# Make subplots\n",
    "#fig, axes = plt.subplots(2,2, figsize=(5, 5))\n",
    "print(vehicles['price'].quantile(0.99))\n",
    "\n",
    "vehicles = vehicles[vehicles['price']<100000]\n",
    "\n",
    "#print(vehicles['price'].describe())\n",
    "plt.hist(vehicles['price'],bins=20)\n",
    "plt.show()"
   ]
  },
  {
   "cell_type": "code",
   "execution_count": null,
   "id": "e06de7d6",
   "metadata": {
    "scrolled": true
   },
   "outputs": [],
   "source": [
    "print(vehicles['year'].quantile(0.05))\n",
    "vehicles = vehicles[vehicles['year']>1990]\n",
    "plt.hist(vehicles['year'],bins=30)\n",
    "plt.show()"
   ]
  },
  {
   "cell_type": "code",
   "execution_count": null,
   "id": "ff4d695d",
   "metadata": {
    "scrolled": true
   },
   "outputs": [],
   "source": [
    "print(vehicles['odometer'].quantile(0.95))\n",
    "vehicles = vehicles[vehicles['odometer']<300000]\n",
    "plt.hist(vehicles['odometer'],bins=20)\n",
    "plt.show()"
   ]
  },
  {
   "cell_type": "code",
   "execution_count": null,
   "id": "6b5f3a30",
   "metadata": {
    "scrolled": true
   },
   "outputs": [],
   "source": [
    "#sns.histplot(vehicles['cylinders'],bins=6)\n",
    "#plt.show()"
   ]
  },
  {
   "cell_type": "code",
   "execution_count": null,
   "id": "495f904c",
   "metadata": {
    "scrolled": true
   },
   "outputs": [],
   "source": [
    "#sns.pairplot(vehicles[['price','year','cylinders','odometer']])\n",
    "#plt.show()"
   ]
  },
  {
   "cell_type": "markdown",
   "id": "9779c22e",
   "metadata": {},
   "source": [
    "### OHE The Data\n"
   ]
  },
  {
   "cell_type": "code",
   "execution_count": null,
   "id": "bd2a4466",
   "metadata": {
    "scrolled": true
   },
   "outputs": [],
   "source": [
    "# Encode data\n",
    "# Scale data to understand distribution?"
   ]
  },
  {
   "cell_type": "code",
   "execution_count": null,
   "id": "295b3c6d",
   "metadata": {
    "scrolled": true
   },
   "outputs": [],
   "source": [
    "vehicles['condition'].unique()"
   ]
  },
  {
   "cell_type": "code",
   "execution_count": null,
   "id": "0bf75329",
   "metadata": {
    "scrolled": true
   },
   "outputs": [],
   "source": [
    "# Condition is categorical so it is suitable for single column mapping\n",
    "cond_map = {'new': 1, 'like new': 2, 'excellent': 3, 'good': 4, 'fair': 5}\n",
    "vehicles['condition_num'] = vehicles['condition'].map(cond_map)"
   ]
  },
  {
   "cell_type": "code",
   "execution_count": null,
   "id": "b1dd4804",
   "metadata": {
    "scrolled": true
   },
   "outputs": [],
   "source": [
    "# Map The manufacturer"
   ]
  },
  {
   "cell_type": "code",
   "execution_count": null,
   "id": "fa1d6597",
   "metadata": {
    "scrolled": true
   },
   "outputs": [],
   "source": [
    "print(vehicles_sub['manufacturer'].nunique())\n",
    "print(vehicles_sub['manufacturer'].unique())\n",
    "\n",
    "encoder = ce.OneHotEncoder(cols=['manufacturer','model','fuel','title_status','transmission','drive','type'], \n",
    "                           use_cat_names=True,\n",
    "                            return_df=True)\n",
    "vehicle_transformed = encoder.fit_transform(vehicles_sub)\n",
    "vehicle_transformed.head()\n",
    "print(vehicle_transformed.shape)"
   ]
  },
  {
   "cell_type": "markdown",
   "id": "11901898",
   "metadata": {},
   "source": [
    "### Run sample regression analysis"
   ]
  },
  {
   "cell_type": "code",
   "execution_count": null,
   "id": "62306e80",
   "metadata": {},
   "outputs": [],
   "source": [
    "#vehicle_transformed = vehicle_transformed.drop(['condition','manufacturer','model','fuel','title_status','transmission','drive','type'],axis=1)\n",
    "#vehicle_transformed.head()\n",
    "#vehicle_transformed=vehicle_transformed.drop('condition',axis=1)"
   ]
  },
  {
   "cell_type": "code",
   "execution_count": null,
   "id": "7b520e2a",
   "metadata": {},
   "outputs": [],
   "source": [
    "# Import regression modules\n",
    "import statsmodels.api as sm"
   ]
  },
  {
   "cell_type": "code",
   "execution_count": 340,
   "id": "3479e2e9",
   "metadata": {
    "scrolled": true
   },
   "outputs": [
    {
     "name": "stdout",
     "output_type": "stream",
     "text": [
      "                            OLS Regression Results                            \n",
      "==============================================================================\n",
      "Dep. Variable:                  price   R-squared:                       0.744\n",
      "Model:                            OLS   Adj. R-squared:                  0.744\n",
      "Method:                 Least Squares   F-statistic:                     2610.\n",
      "Date:                Tue, 20 May 2025   Prob (F-statistic):               0.00\n",
      "Time:                        15:51:26   Log-Likelihood:            -5.9585e+05\n",
      "No. Observations:               57526   AIC:                         1.192e+06\n",
      "Df Residuals:                   57461   BIC:                         1.192e+06\n",
      "Df Model:                          64                                         \n",
      "Covariance Type:            nonrobust                                         \n",
      "===========================================================================================\n",
      "                              coef    std err          t      P>|t|      [0.025      0.975]\n",
      "-------------------------------------------------------------------------------------------\n",
      "const                     -8.7e+05   6414.613   -135.624      0.000   -8.83e+05   -8.57e+05\n",
      "year                     1094.3036      7.948    137.691      0.000    1078.726    1109.881\n",
      "manufacturer_honda      -7.496e+04    892.964    -83.946      0.000   -7.67e+04   -7.32e+04\n",
      "manufacturer_toyota     -6.311e+04   8819.825     -7.155      0.000   -8.04e+04   -4.58e+04\n",
      "manufacturer_chevrolet  -7.453e+04   2595.208    -28.718      0.000   -7.96e+04   -6.94e+04\n",
      "manufacturer_jeep        -5.99e+04    745.077    -80.392      0.000   -6.14e+04   -5.84e+04\n",
      "manufacturer_ford       -7.565e+04   3986.111    -18.978      0.000   -8.35e+04   -6.78e+04\n",
      "manufacturer_hyundai    -6.669e+04    755.611    -88.256      0.000   -6.82e+04   -6.52e+04\n",
      "manufacturer_nissan     -7.484e+04   6043.578    -12.383      0.000   -8.67e+04    -6.3e+04\n",
      "manufacturer_gmc        -6.375e+04   2797.776    -22.784      0.000   -6.92e+04   -5.83e+04\n",
      "manufacturer_ram        -7.004e+04   2575.643    -27.191      0.000   -7.51e+04    -6.5e+04\n",
      "manufacturer_dodge      -7.394e+04   2937.951    -25.167      0.000   -7.97e+04   -6.82e+04\n",
      "manufacturer_volkswagen  -5.05e+04    570.370    -88.533      0.000   -5.16e+04   -4.94e+04\n",
      "manufacturer_subaru     -4.804e+04    570.874    -84.144      0.000   -4.92e+04   -4.69e+04\n",
      "manufacturer_chrysler   -7.405e+04   7516.625     -9.851      0.000   -8.88e+04   -5.93e+04\n",
      "model_odyssey           -1.491e+04    369.884    -40.298      0.000   -1.56e+04   -1.42e+04\n",
      "model_tundra            -1.987e+04   8587.184     -2.314      0.021   -3.67e+04   -3038.886\n",
      "model_tacoma            -2.389e+04   8586.044     -2.782      0.005   -4.07e+04   -7060.165\n",
      "model_silverado 1500    -1.225e+04   2674.240     -4.581      0.000   -1.75e+04   -7008.786\n",
      "model_wrangler          -2.676e+04    388.319    -68.904      0.000   -2.75e+04    -2.6e+04\n",
      "model_civic             -2.112e+04    284.246    -74.284      0.000   -2.17e+04   -2.06e+04\n",
      "model_f-150             -1.076e+04   3643.410     -2.954      0.003   -1.79e+04   -3621.607\n",
      "model_sonata            -3.254e+04    418.625    -77.738      0.000   -3.34e+04   -3.17e+04\n",
      "model_cherokee          -3.314e+04    393.329    -84.259      0.000   -3.39e+04   -3.24e+04\n",
      "model_rav4              -3.124e+04   8588.048     -3.638      0.000   -4.81e+04   -1.44e+04\n",
      "model_mustang            -1.22e+04   3649.070     -3.344      0.001   -1.94e+04   -5048.473\n",
      "model_focus             -2.452e+04   3649.581     -6.718      0.000   -3.17e+04   -1.74e+04\n",
      "model_altima            -2.415e+04   6168.618     -3.914      0.000   -3.62e+04   -1.21e+04\n",
      "model_camry             -3.204e+04   8585.352     -3.731      0.000   -4.89e+04   -1.52e+04\n",
      "model_silverado 2500    -7655.8387   2680.136     -2.857      0.004   -1.29e+04   -2402.758\n",
      "model_elantra           -3.414e+04    426.769    -80.007      0.000    -3.5e+04   -3.33e+04\n",
      "model_sierra 1500       -2.138e+04   2948.130     -7.252      0.000   -2.72e+04   -1.56e+04\n",
      "model_accord             -1.92e+04    283.822    -67.631      0.000   -1.98e+04   -1.86e+04\n",
      "model_corolla           -3.474e+04   8581.608     -4.048      0.000   -5.16e+04   -1.79e+04\n",
      "model_corvette           3943.7030   2684.329      1.469      0.142   -1317.596    9205.002\n",
      "model_f-350             -5511.8944   3645.967     -1.512      0.131   -1.27e+04    1634.220\n",
      "model_1500              -1.864e+04   2736.114     -6.812      0.000    -2.4e+04   -1.33e+04\n",
      "model_3500              -8630.0723   2728.602     -3.163      0.002    -1.4e+04   -3281.998\n",
      "model_f-250             -6348.3989   3645.155     -1.742      0.082   -1.35e+04     796.124\n",
      "model_tahoe             -1.066e+04   2683.779     -3.973      0.000   -1.59e+04   -5402.404\n",
      "model_charger           -2.083e+04   3225.067     -6.460      0.000   -2.72e+04   -1.45e+04\n",
      "model_explorer          -1.665e+04   3641.709     -4.572      0.000   -2.38e+04   -9513.088\n",
      "model_jetta              -5.05e+04    570.370    -88.533      0.000   -5.16e+04   -4.94e+04\n",
      "model_escape            -2.266e+04   3648.546     -6.212      0.000   -2.98e+04   -1.55e+04\n",
      "model_fusion            -2.428e+04   3649.975     -6.652      0.000   -3.14e+04   -1.71e+04\n",
      "model_prius             -3.337e+04   8589.310     -3.885      0.000   -5.02e+04   -1.65e+04\n",
      "model_impala            -2.302e+04   2683.162     -8.580      0.000   -2.83e+04   -1.78e+04\n",
      "model_2500              -1.214e+04   2738.241     -4.434      0.000   -1.75e+04   -6774.324\n",
      "model_grand caravan     -2.043e+04   3224.191     -6.336      0.000   -2.67e+04   -1.41e+04\n",
      "model_cruze             -2.742e+04   2683.493    -10.220      0.000   -3.27e+04   -2.22e+04\n",
      "model_edge              -1.968e+04   3653.444     -5.388      0.000   -2.68e+04   -1.25e+04\n",
      "model_equinox           -2.392e+04   2682.775     -8.916      0.000   -2.92e+04   -1.87e+04\n",
      "model_outback           -4.804e+04    570.874    -84.144      0.000   -4.92e+04   -4.69e+04\n",
      "model_malibu            -2.495e+04   2683.959     -9.295      0.000   -3.02e+04   -1.97e+04\n",
      "model_cr-v              -1.975e+04    328.864    -60.042      0.000   -2.04e+04   -1.91e+04\n",
      "cylinders                  -5.7188     35.562     -0.161      0.872     -75.420      63.983\n",
      "fuel_gas                -1.762e+05   1298.750   -135.696      0.000   -1.79e+05   -1.74e+05\n",
      "fuel_other               -1.75e+05   1308.482   -133.764      0.000   -1.78e+05   -1.72e+05\n",
      "fuel_diesel             -1.663e+05   1309.035   -127.038      0.000   -1.69e+05   -1.64e+05\n",
      "fuel_hybrid             -1.756e+05   1325.270   -132.530      0.000   -1.78e+05   -1.73e+05\n",
      "fuel_electric           -1.768e+05   1566.005   -112.885      0.000    -1.8e+05   -1.74e+05\n",
      "odometer                   -0.0680      0.001    -94.075      0.000      -0.069      -0.067\n",
      "title_status_clean      -2.885e+05   2142.339   -134.656      0.000   -2.93e+05   -2.84e+05\n",
      "title_status_rebuilt    -2.929e+05   2147.669   -136.386      0.000   -2.97e+05   -2.89e+05\n",
      "title_status_lien       -2.886e+05   2167.285   -133.155      0.000   -2.93e+05   -2.84e+05\n",
      "transmission_automatic  -2.902e+05   2145.747   -135.248      0.000   -2.94e+05   -2.86e+05\n",
      "transmission_other      -2.909e+05   2150.661   -135.246      0.000   -2.95e+05   -2.87e+05\n",
      "transmission_manual     -2.889e+05   2124.316   -135.997      0.000   -2.93e+05   -2.85e+05\n",
      "drive_fwd               -2.912e+05   2139.553   -136.107      0.000   -2.95e+05   -2.87e+05\n",
      "drive_4wd               -2.873e+05   2144.267   -133.998      0.000   -2.92e+05   -2.83e+05\n",
      "drive_rwd               -2.914e+05   2134.703   -136.525      0.000   -2.96e+05   -2.87e+05\n",
      "type_van                -1.762e+05   1305.904   -134.888      0.000   -1.79e+05   -1.74e+05\n",
      "type_pickup             -1.728e+05   1286.362   -134.318      0.000   -1.75e+05    -1.7e+05\n",
      "type_SUV                -1.743e+05   1291.090   -135.003      0.000   -1.77e+05   -1.72e+05\n",
      "type_sedan              -1.734e+05   1283.107   -135.127      0.000   -1.76e+05   -1.71e+05\n",
      "type_other              -1.734e+05   1296.425   -133.721      0.000   -1.76e+05   -1.71e+05\n",
      "condition_num             612.7038     54.427     11.257      0.000     506.026     719.381\n",
      "==============================================================================\n",
      "Omnibus:                     8588.295   Durbin-Watson:                   1.743\n",
      "Prob(Omnibus):                  0.000   Jarque-Bera (JB):           130668.274\n",
      "Skew:                          -0.173   Prob(JB):                         0.00\n",
      "Kurtosis:                      10.375   Cond. No.                     3.46e+16\n",
      "==============================================================================\n",
      "\n",
      "Notes:\n",
      "[1] Standard Errors assume that the covariance matrix of the errors is correctly specified.\n",
      "[2] The smallest eigenvalue is 6.44e-19. This might indicate that there are\n",
      "strong multicollinearity problems or that the design matrix is singular.\n"
     ]
    }
   ],
   "source": [
    "X = vehicle_transformed.drop('price',axis=1)\n",
    "X = sm.add_constant(X)\n",
    "m = sm.OLS(vehicle_transformed['price'],X).fit()\n",
    "print(m.summary())"
   ]
  },
  {
   "cell_type": "markdown",
   "id": "e9936674",
   "metadata": {},
   "source": [
    "### Summary"
   ]
  },
  {
   "cell_type": "markdown",
   "id": "5782c94b",
   "metadata": {},
   "source": [
    "In this notebook, the vehicle dataset was fully cleaned of N/A values. The numerical features were trimmed of the extreme values. The dataset has been prepared for modeling by encoding the remaining categorical features. \n",
    "\n",
    "The \"model\" feature of the dataset poses a significant challenges to modeling as there are over 10,000 unique categories. The \"model\" feature was filtered for the top 40 common models and standard labels were applied manually. The rows not associated with the top 40 models were then dropped. This results in a much smaller dataset. A more optimum manner to condense the \"model\" feature will need to be investigated.\n",
    "\n",
    "The reduced dataset was OHE using category_encoders library. The preliminary linear regression fit shows a cleaner fit than during the EDA step, suggesting the dataset is properly prepared for modeling.  \n",
    "\n",
    "Note that the original vehicle dataset was halved for speedy run times. For the next step, the original full dataset will be used to increase number of datapoints used for modeling. "
   ]
  }
 ],
 "metadata": {
  "kernelspec": {
   "display_name": "Python 3 (ipykernel)",
   "language": "python",
   "name": "python3"
  },
  "language_info": {
   "codemirror_mode": {
    "name": "ipython",
    "version": 3
   },
   "file_extension": ".py",
   "mimetype": "text/x-python",
   "name": "python",
   "nbconvert_exporter": "python",
   "pygments_lexer": "ipython3",
   "version": "3.10.9"
  }
 },
 "nbformat": 4,
 "nbformat_minor": 5
}
